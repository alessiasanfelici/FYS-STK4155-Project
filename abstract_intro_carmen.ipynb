{
 "cells": [
  {
   "cell_type": "markdown",
   "metadata": {},
   "source": [
    "Abstract\n",
    "\n",
    "We explored the use of different methods for fitting linear regression to the Franke function and later to topographical terrain data in xx, Norway. We used the OLS, Ridge and Lasso regression methods and combined the OLS method with resampling methods, such as bootstrap resampling, respectively cross-validation. We found that the xx method gave us the best result, in contrast to xx and xx performing worse.\n",
    "Furthermore, we studied the underlying theoretical statistics, focussing on the distribution properties of our model as well as the bias-variance trade-off."
   ]
  },
  {
   "cell_type": "markdown",
   "metadata": {},
   "source": [
    "Introduction\n",
    "\n",
    "Linear regression, a fundamental statistical technique, denotes a well studied method for a supervised learning approach to predictive modelling. Its simplicity in combination with the various developped additions offer a wide range of parameters to tune and techniques to add to generate a high validity model for a data set. Its impact is reaching far beyond the above. Building the foundation for more complex Machine Learning algorithms, e. g. logistic regression for classification; unsupervised methods are derived by linear regression. To benchmerk a more sophisticated algorithm, linear regression is used as well to give a first subsumption, whether the developed method is valid. Motivated by the importance and topicality of linear regression, we examine it in this report.\n",
    "\n",
    "In this project we explore the impact of the parameters as well as methods on the model output and discover the relation of certain parameters. The former primarily referring to studying the model behavior in different lambdas and comparing OLS, Ridge and Lasso as well as examining the improvement achievable by resampling techniques. The latter consisting of extracting the distribution properties of the model and inspecting the bias-variance trade-off. Finally this project aims to provide a red thread to guide one on how to fit a linear regression to a particular data set.\n",
    "\n",
    "We start by fitting OLS, Ridge and Lasso regression to a known continuous function, the Franke function. We then examine the cause of our model behavior by deriving the statistical properties of our model. Subsequently we regard the bias-variance trade-off and add resampling techniques to improve our results. Finally we use our gained insights to apply linear regression to terrain data in xx, Norway."
   ]
  },
  {
   "cell_type": "markdown",
   "metadata": {},
   "source": [
    "Citations examples are added as a screenshot seperately!"
   ]
  }
 ],
 "metadata": {
  "language_info": {
   "name": "python"
  },
  "orig_nbformat": 4
 },
 "nbformat": 4,
 "nbformat_minor": 2
}
